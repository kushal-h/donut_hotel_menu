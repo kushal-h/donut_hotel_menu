{
  "nbformat": 4,
  "nbformat_minor": 0,
  "metadata": {
    "colab": {
      "provenance": [],
      "authorship_tag": "ABX9TyO7uCfBFI/gmHpHC8KLK5w5",
      "include_colab_link": true
    },
    "kernelspec": {
      "name": "python3",
      "display_name": "Python 3"
    },
    "language_info": {
      "name": "python"
    },
    "accelerator": "GPU",
    "gpuClass": "standard"
  },
  "cells": [
    {
      "cell_type": "markdown",
      "metadata": {
        "id": "view-in-github",
        "colab_type": "text"
      },
      "source": [
        "<a href=\"https://colab.research.google.com/github/kushal-h/donut_hotel_menu/blob/main/Hotel_menu/Hotel_menu_donut.ipynb\" target=\"_parent\"><img src=\"https://colab.research.google.com/assets/colab-badge.svg\" alt=\"Open In Colab\"/></a>"
      ]
    },
    {
      "cell_type": "markdown",
      "source": [
        "Installing Donut package"
      ],
      "metadata": {
        "id": "dZg__cETEFvl"
      }
    },
    {
      "cell_type": "code",
      "source": [
        "!git clone https://github.com/clovaai/donut.git\n",
        "!cd donut && pip install ."
      ],
      "metadata": {
        "id": "WXv5FsvGKHKW"
      },
      "execution_count": null,
      "outputs": []
    },
    {
      "cell_type": "code",
      "execution_count": null,
      "metadata": {
        "id": "tzBN5wcZGlLb"
      },
      "outputs": [],
      "source": [
        "!unzip hotel_menu.zip"
      ]
    },
    {
      "cell_type": "markdown",
      "source": [
        "Splitting test,train,Validation data"
      ],
      "metadata": {
        "id": "l5wRmmyLEOW8"
      }
    },
    {
      "cell_type": "code",
      "source": [
        "import os\n",
        "import json\n",
        "import shutil\n",
        "from tqdm.notebook import tqdm\n",
        "lines = []\n",
        "images = []\n",
        "for ann in tqdm(os.listdir(\"/content/hotel_menu/Json files/\")[:30]):\n",
        "  if ann != \".ipynb_checkpoints\":\n",
        "    with open(\"/content/hotel_menu/Json files/\" + ann) as f:\n",
        "      data = json.load(f)\n",
        "    images.append(ann[:-4] + \"png\")\n",
        "    line = {\"gt_parse\": data}\n",
        "    lines.append(line)\n",
        "\n",
        "with open(\"./hotel_donut/train/metadata.jsonl\", 'w+') as f:\n",
        "  for i, gt_parse in enumerate(lines):\n",
        "    print(images[i])\n",
        "    line = {\"file_name\": images[i], \"ground_truth\": json.dumps(gt_parse)}\n",
        "    f.write(json.dumps(line) + \"\\n\")\n",
        "    \n",
        "    shutil.copyfile(\"/content/hotel_menu/Png files/\" + images[i], \"/content/hotel_donut/train/\" + images[i])"
      ],
      "metadata": {
        "id": "aoD_zE3tHRWT"
      },
      "execution_count": null,
      "outputs": []
    },
    {
      "cell_type": "code",
      "source": [
        "!cd donut && python train.py --config config/train_hotel.yaml"
      ],
      "metadata": {
        "colab": {
          "base_uri": "https://localhost:8080/"
        },
        "id": "Iad1XgBeIfmP",
        "outputId": "4820f295-9d22-4769-97f3-a308d66abb57"
      },
      "execution_count": null,
      "outputs": [
        {
          "output_type": "stream",
          "name": "stdout",
          "text": [
            "2023-04-27 23:55:00.765215: W tensorflow/compiler/tf2tensorrt/utils/py_utils.cc:38] TF-TRT Warning: Could not find TensorRT\n",
            "resume_from_checkpoint_path: None\n",
            "result_path: ./result\n",
            "pretrained_model_name_or_path: naver-clova-ix/donut-base\n",
            "dataset_name_or_paths: \n",
            "  - /content/hotel_donut\n",
            "sort_json_key: False\n",
            "train_batch_sizes: \n",
            "  - 1\n",
            "val_batch_sizes: \n",
            "  - 1\n",
            "input_size: \n",
            "  - 1280\n",
            "  - 960\n",
            "max_length: 768\n",
            "align_long_axis: False\n",
            "num_nodes: 1\n",
            "seed: 2022\n",
            "lr: 3e-05\n",
            "warmup_steps: 300\n",
            "num_training_samples_per_epoch: 800\n",
            "max_epochs: 30\n",
            "max_steps: -1\n",
            "num_workers: 8\n",
            "val_check_interval: 1.0\n",
            "check_val_every_n_epoch: 10\n",
            "gradient_clip_val: 1.0\n",
            "verbose: True\n",
            "exp_name: train_hotel\n",
            "exp_version: 20230427_235504\n",
            "Config is saved at result/train_hotel/20230427_235504/config.yaml\n",
            "/usr/local/lib/python3.10/dist-packages/pytorch_lightning/utilities/seed.py:48: LightningDeprecationWarning: `pytorch_lightning.utilities.seed.seed_everything` has been deprecated in v1.8.0 and will be removed in v1.10.0. Please use `lightning_lite.utilities.seed.seed_everything` instead.\n",
            "  rank_zero_deprecation(\n",
            "Global seed set to 2022\n",
            "/usr/local/lib/python3.10/dist-packages/torch/functional.py:504: UserWarning: torch.meshgrid: in an upcoming release, it will be required to pass the indexing argument. (Triggered internally at ../aten/src/ATen/native/TensorShape.cpp:3483.)\n",
            "  return _VF.meshgrid(tensors, **kwargs)  # type: ignore[attr-defined]\n",
            "Some weights of DonutModel were not initialized from the model checkpoint at naver-clova-ix/donut-base and are newly initialized because the shapes did not match:\n",
            "- encoder.model.layers.0.blocks.1.attn_mask: found shape torch.Size([3072, 100, 100]) in the checkpoint and torch.Size([768, 100, 100]) in the model instantiated\n",
            "- encoder.model.layers.1.blocks.1.attn_mask: found shape torch.Size([768, 100, 100]) in the checkpoint and torch.Size([192, 100, 100]) in the model instantiated\n",
            "- encoder.model.layers.2.blocks.1.attn_mask: found shape torch.Size([192, 100, 100]) in the checkpoint and torch.Size([48, 100, 100]) in the model instantiated\n",
            "- encoder.model.layers.2.blocks.3.attn_mask: found shape torch.Size([192, 100, 100]) in the checkpoint and torch.Size([48, 100, 100]) in the model instantiated\n",
            "- encoder.model.layers.2.blocks.5.attn_mask: found shape torch.Size([192, 100, 100]) in the checkpoint and torch.Size([48, 100, 100]) in the model instantiated\n",
            "- encoder.model.layers.2.blocks.7.attn_mask: found shape torch.Size([192, 100, 100]) in the checkpoint and torch.Size([48, 100, 100]) in the model instantiated\n",
            "- encoder.model.layers.2.blocks.9.attn_mask: found shape torch.Size([192, 100, 100]) in the checkpoint and torch.Size([48, 100, 100]) in the model instantiated\n",
            "- encoder.model.layers.2.blocks.11.attn_mask: found shape torch.Size([192, 100, 100]) in the checkpoint and torch.Size([48, 100, 100]) in the model instantiated\n",
            "- encoder.model.layers.2.blocks.13.attn_mask: found shape torch.Size([192, 100, 100]) in the checkpoint and torch.Size([48, 100, 100]) in the model instantiated\n",
            "- encoder.model.layers.3.blocks.1.attn_mask: found shape torch.Size([48, 100, 100]) in the checkpoint and torch.Size([12, 100, 100]) in the model instantiated\n",
            "You should probably TRAIN this model on a down-stream task to be able to use it for predictions and inference.\n",
            "Resolving data files: 100% 31/31 [00:00<00:00, 98652.07it/s]\n",
            "Downloading and preparing dataset imagefolder/hotel_donut to /root/.cache/huggingface/datasets/imagefolder/hotel_donut-3e64f39d891ff108/0.0.0/37fbb85cc714a338bea574ac6c7d0b5be5aff46c1862c1989b20e0771199e93f...\n",
            "Downloading data files: 100% 34/34 [00:00<00:00, 19273.73it/s]\n",
            "Downloading data files: 0it [00:00, ?it/s]\n",
            "Extracting data files: 0it [00:00, ?it/s]\n",
            "Downloading data files: 100% 9/9 [00:00<00:00, 41619.33it/s]\n",
            "Downloading data files: 0it [00:00, ?it/s]\n",
            "Extracting data files: 0it [00:00, ?it/s]\n",
            "Downloading data files: 100% 9/9 [00:00<00:00, 34952.53it/s]\n",
            "Downloading data files: 0it [00:00, ?it/s]\n",
            "Extracting data files: 0it [00:00, ?it/s]\n",
            "Dataset imagefolder downloaded and prepared to /root/.cache/huggingface/datasets/imagefolder/hotel_donut-3e64f39d891ff108/0.0.0/37fbb85cc714a338bea574ac6c7d0b5be5aff46c1862c1989b20e0771199e93f. Subsequent calls will reuse this data.\n",
            "Resolving data files: 100% 31/31 [00:00<00:00, 35809.26it/s]\n",
            "Found cached dataset imagefolder (/root/.cache/huggingface/datasets/imagefolder/hotel_donut-3e64f39d891ff108/0.0.0/37fbb85cc714a338bea574ac6c7d0b5be5aff46c1862c1989b20e0771199e93f)\n",
            "/usr/local/lib/python3.10/dist-packages/pytorch_lightning/trainer/connectors/accelerator_connector.py:441: LightningDeprecationWarning: Setting `Trainer(gpus=1)` is deprecated in v1.7 and will be removed in v2.0. Please use `Trainer(accelerator='gpu', devices=1)` instead.\n",
            "  rank_zero_deprecation(\n",
            "Using 16bit native Automatic Mixed Precision (AMP)\n",
            "GPU available: True (cuda), used: True\n",
            "TPU available: False, using: 0 TPU cores\n",
            "IPU available: False, using: 0 IPUs\n",
            "HPU available: False, using: 0 HPUs\n",
            "`Trainer(val_check_interval=1.0)` was configured so validation will run at the end of the training epoch..\n",
            "[rank: 0] Global seed set to 2022\n",
            "Initializing distributed: GLOBAL_RANK: 0, MEMBER: 1/1\n",
            "----------------------------------------------------------------------------------------------------\n",
            "distributed_backend=nccl\n",
            "All distributed processes registered. Starting with 1 processes\n",
            "----------------------------------------------------------------------------------------------------\n",
            "\n",
            "/usr/local/lib/python3.10/dist-packages/pytorch_lightning/callbacks/model_checkpoint.py:604: UserWarning: Checkpoint directory /content/donut/result/train_hotel/20230427_235504 exists and is not empty.\n",
            "  rank_zero_warn(f\"Checkpoint directory {dirpath} exists and is not empty.\")\n",
            "LOCAL_RANK: 0 - CUDA_VISIBLE_DEVICES: [0]\n",
            "\n",
            "  | Name  | Type       | Params\n",
            "-------------------------------------\n",
            "0 | model | DonutModel | 201 M \n",
            "-------------------------------------\n",
            "201 M     Trainable params\n",
            "0         Non-trainable params\n",
            "201 M     Total params\n",
            "402.154   Total estimated model params size (MB)\n",
            "/usr/local/lib/python3.10/dist-packages/torch/utils/data/dataloader.py:561: UserWarning: This DataLoader will create 8 worker processes in total. Our suggested max number of worker in current system is 2, which is smaller than what this DataLoader is going to create. Please be aware that excessive worker creation might get DataLoader running slow or even freeze, lower the worker number to avoid potential slowness/freeze if necessary.\n",
            "  warnings.warn(_create_warning_msg(\n",
            "/usr/local/lib/python3.10/dist-packages/pytorch_lightning/trainer/trainer.py:1595: PossibleUserWarning: The number of training batches (30) is smaller than the logging interval Trainer(log_every_n_steps=50). Set a lower value for log_every_n_steps if you want to see logs for the training epoch.\n",
            "  rank_zero_warn(\n",
            "Epoch 0:   0% 0/30 [00:00<?, ?it/s] /usr/local/lib/python3.10/dist-packages/torch/optim/lr_scheduler.py:139: UserWarning: Detected call of `lr_scheduler.step()` before `optimizer.step()`. In PyTorch 1.1.0 and later, you should call them in the opposite order: `optimizer.step()` before `lr_scheduler.step()`.  Failure to do this will result in PyTorch skipping the first value of the learning rate schedule. See more details at https://pytorch.org/docs/stable/optim.html#how-to-adjust-learning-rate\n",
            "  warnings.warn(\"Detected call of `lr_scheduler.step()` before `optimizer.step()`. \"\n",
            "Epoch 9: 100% 30/30 [00:18<00:00,  1.64it/s, loss=0.119, v_num=5504]\n",
            "Validation: 0it [00:00, ?it/s]\u001b[A\n",
            "Validation:   0% 0/5 [00:00<?, ?it/s]\u001b[A\n",
            "                                                                    \n",
            "\u001b[APrediction: <s_menu><s_food name>BREAKFAST OPTIONS</s_price><sep/><s_food name>SNACKS</s_price><sep/><s_food name>207</s_price><sep/><s_food name>Roasted papadun</s_price><sep/><s_food name>207</s_price><sep/><s_food name>SWEETEST ENDINGS AND MORE</s_price><sep/><s_food name>BEVERAGES</s_price><sep/><s_food name>Adrak asami chai</s_price><sep/><s_food name>25° 30°</s_price><sep/><s_food name>Red <s_food name>Red <s_food name>50° Lassi</s_food name><s_price>50° 50° 50° 50° 50°</s_price></s_menu>\n",
            "Epoch 9: 100% 30/30 [00:19<00:00,  1.55it/s, loss=0.119, v_num=5504]\n",
            "                                                                    \n",
            "\u001b[A    Answer: <s_hotel>keshav hotel</s_hotel><s_menu><s_food name>bread butter toast</s_food name><s_price>20</s_price><sep/><s_food name>corn flakes with milk</s_food name><s_price>30</s_price><sep/><s_food name>thandal</s_food name><s_price>50</s_price></s_menu>\n",
            "Epoch 9: 100% 30/30 [00:19<00:00,  1.55it/s, loss=0.119, v_num=5504]\n",
            "                                                                    \n",
            "\u001b[A Normed ED: 0.6036960985626283\n",
            "Epoch 9: 100% 30/30 [00:19<00:00,  1.55it/s, loss=0.119, v_num=5504]\n",
            "                                                                    \n",
            "\u001b[APrediction: <s_menu><s_food name>Pakk Chaat</s_food name><s_price>$12.00</s_price><sep/><s_food name>Samosa Chaat</s_food name><s_price>$13.00</s_price><sep/><s_food name>Papdi Chat</s_food name><s_price>$12.00</s_price><sep/><s_food name>Sweet Potato Chat</s_food name><s_price>$13.00</s_price><sep/><s_food name>Papdi Chat</s_food name><s_price>$13.00</s_price><sep/><s_food name>Roasted sweet potatoes are topped with a</s_price></s_menu>\n",
            "Epoch 9: 100% 30/30 [00:20<00:00,  1.50it/s, loss=0.119, v_num=5504]\n",
            "                                                                    \n",
            "\u001b[A    Answer: <s_menu><s_food name>Palak Chaat</s_food name><s_price>$12.00</s_price><sep/><s_food name>Samosa Chaat</s_food name><s_price>$13.00</s_price><sep/><s_food name>Papdi Chat</s_food name><s_price>$11.00</s_price><sep/><s_food name>Sweet Potato Chat</s_food name><s_price>$13.00</s_price></s_menu>\n",
            "Epoch 9: 100% 30/30 [00:20<00:00,  1.50it/s, loss=0.119, v_num=5504]\n",
            "                                                                    \n",
            "\u001b[A Normed ED: 0.32634032634032634\n",
            "Epoch 9: 100% 30/30 [00:20<00:00,  1.50it/s, loss=0.119, v_num=5504]\n",
            "                                                                    \n",
            "\u001b[APrediction: <s_menu><s_food name>Mac & Cheese</s_food name><s_price>$6.00</s_price><sep/><s_food name>Chicken Burger with Fries</s_food name><s_price>$12.00</s_price><sep/><s_food name>Veg Burger with Fries</s_food name><s_price>$10.00</s_price><sep/><s_food name>Pepperoni Pizza</s_food name><s_price>$10.00</s_price><sep/><s_food name>Gulab Jamun with Ice Cream</s_food name><s_price>$8.00</s_price><sep/><s_food name>Gajar Halwa (Carrot Pudding)</s_food name><s_price>$8.00</s_price><sep/><s_food name>Mango Cake</s_food name><s_price>$8.00</s_price></s_menu>\n",
            "Epoch 9: 100% 30/30 [00:21<00:00,  1.42it/s, loss=0.119, v_num=5504]\n",
            "                                                                    \n",
            "\u001b[A    Answer: <s_menu><s_food name>Mac & Cheese</s_food name><s_price>$6.00</s_price><sep/><s_food name>Chicken Burger with Fries</s_food name><s_price>$12.00</s_price><sep/><s_food name>Cauliflower Puree</s_food name><s_price>$8.00</s_price><sep/><s_food name>Pizza Margarita</s_food name><s_price>$10.00</s_price><sep/><s_food name>Veg Burger with Fries</s_food name><s_price>$10.00</s_price><sep/><s_food name>Pepperoni Pizza</s_food name><s_price>$10.00</s_price><sep/><s_food name>Chicken Boneless Tenders</s_food name><s_price>$8.00</s_price><sep/><s_food name>Combo Fried Rice (Egg & Chicken)</s_food name><s_price>$12.00</s_price><sep/><s_food name>Gulab Jamun with Ice Cream</s_food name><s_price>$8.00</s_price><sep/><s_food name>Gajar Halwa (Carrot Pudding)</s_food name><s_price>$8.00</s_price><sep/><s_food name>Mango Cake</s_food name><s_price>$8.00</s_price><sep/><s_food name>Rasmalai (Creamy Dumplings)</s_food name><s_price>$8.00</s_price></s_menu>\n",
            "Epoch 9: 100% 30/30 [00:21<00:00,  1.41it/s, loss=0.119, v_num=5504]\n",
            "                                                                    \n",
            "\u001b[A Normed ED: 0.4222689075630252\n",
            "Epoch 9: 100% 30/30 [00:21<00:00,  1.41it/s, loss=0.119, v_num=5504]\n",
            "                                                                    \n",
            "\u001b[APrediction: <s_menu><s_food name>Seafood Dip & Chips</s_food name><s_price>$79.95</s_price><sep/><s_food name>Chips & Salsa</s_food name><s_price>$39.95</s_price><sep/><s_food name>Dinner Packages <s_food name>All Premium Entrees Will Include a $2 Upcharge</s_food name><s_price>$14.95</s_price><sep/><s_food name>Mama Said \"Shut Yo Mouf & Eat!\"</s_food name><s_price>$18.95</s_price><sep/><s_food name>Sunday Dinner</s_food name><s_price>$16.95</s_price></s_menu>\n",
            "Epoch 9: 100% 30/30 [00:22<00:00,  1.36it/s, loss=0.119, v_num=5504]\n",
            "                                                                    \n",
            "\u001b[A    Answer: <s_menu><s_food name>Seafood Dip & Chips</s_food name><s_price>$79.95</s_price><sep/><s_food name>Wingettes</s_food name><s_price>$0.80</s_price><sep/><s_food name>Buffalo Chicken Dip</s_food name><s_price>$59.95</s_price><sep/><s_food name>Chips & Salsa</s_food name><s_price>$39.95</s_price><sep/><s_food name>Supper</s_food name><s_price>$14.95</s_price><sep/><s_food name>Mama Said Shut Yo Mouf & Eat!</s_food name><s_price>$18.95</s_price><sep/><s_food name>Sunday Dinner</s_food name><s_price>$16.95</s_price></s_menu>\n",
            "Epoch 9: 100% 30/30 [00:22<00:00,  1.36it/s, loss=0.119, v_num=5504]\n",
            "                                                                    \n",
            "\u001b[A Normed ED: 0.2652671755725191\n",
            "Epoch 9: 100% 30/30 [00:22<00:00,  1.36it/s, loss=0.119, v_num=5504]\n",
            "                                                                    \n",
            "\u001b[APrediction: <s_menu><s_food name>Chicken</s_food name><s_price>$18.95</s_price><sep/><s_food name>Carne Asada</s_food name><s_price>$22.95</s_price><sep/><s_food name>Mexican Street Corn</s_food name><s_price>$5.95</s_price><sep/><s_food name>Rice & Beans</s_food name><s_price>$4.95</s_price><sep/><s_food name>Mexican Rice</s_food name><s_price>$4.95</s_price><sep/><s_food name>Escabeche</s_food name><s_price>$3.95</s_price><sep/><s_food name>Chocolate Stuffed Churros</s_food name><s_price>$8.95</s_price><sep/><s_food name>Fried Ice Cream</s_food name><s_price>$7.95</s_price><sep/><s_food name>Capiroda</s_food name><s_price>$7.95</s_price></s_menu>\n",
            "Epoch 9: 100% 30/30 [00:23<00:00,  1.27it/s, loss=0.119, v_num=5504]\n",
            "                                                                    \n",
            "\u001b[A    Answer: <s_menu><s_food name>Chicken</s_food name><s_price>$18.95</s_price><sep/><s_food name>Carne Asada</s_food name><s_price>$22.95</s_price><sep/><s_food name>Shrimp</s_food name><s_price>$19.95</s_price><sep/><s_food name>Mexican Street Corn</s_food name><s_price>$5.95</s_price><sep/><s_food name>Rice & Beans</s_food name><s_price>$4.95</s_price><sep/><s_food name>Sweet Plantains</s_food name><s_price>$4.95</s_price><sep/><s_food name>Avocado Caesar Salad</s_food name><s_price>$6.95</s_price><sep/><s_food name>Mexican Rice</s_food name><s_price>$4.95</s_price><sep/><s_food name>Escabeche</s_food name><s_price>$3.95</s_price><sep/><s_food name>Black Beans</s_food name><s_price>$4.95</s_price><sep/><s_food name>French Fries</s_food name><s_price>$4.95</s_price><sep/><s_food name>Chocolate Stuffed Churros</s_food name><s_price>$8.95</s_price><sep/><s_food name>Fried Ice Cream</s_food name><s_price>$7.95</s_price><sep/><s_food name>Tres Leches</s_food name><s_price>$7.95</s_price><sep/><s_food name>Capirotada</s_food name><s_price>$7.95</s_price></s_menu>\n",
            "Epoch 9: 100% 30/30 [00:23<00:00,  1.27it/s, loss=0.119, v_num=5504]\n",
            "                                                                    \n",
            "\u001b[A Normed ED: 0.39473684210526316\n",
            "Epoch 9: 100% 30/30 [00:23<00:00,  1.27it/s, loss=0.119, v_num=5504]\n",
            "Validation DataLoader 0:   0% 0/5 [00:05<?, ?it/s]\u001b[A\n",
            "Epoch 9: 100% 30/30 [00:23<00:00,  1.27it/s, loss=0.119, v_num=5504]\n",
            "Epoch 19:  57% 20/35 [00:12<00:09,  1.63it/s, loss=0.0327, v_num=5504]\n",
            "Validation: 0it [00:00, ?it/s]\u001b[A\n",
            "Validation:   0% 0/5 [00:00<?, ?it/s]\u001b[A\n",
            "                                                                      \n",
            "\u001b[APrediction: <s_menu><s_food name>BREAKFAST OPTIONS</s_price><sep/><s_food name>SNACKS</s_food name><s_price>20%</s_price><sep/><s_food name>Masala pasadalum</s_food name><s_price>20%</s_price><sep/><s_food name>Sweets</s_food name><s_price>And MORE</s_price><sep/><s_food name>Adrak assamichi <sep/><s_food name>25%</s_price><sep/><s_food name>25%</s_price></s_menu>\n",
            "Epoch 19:  57% 20/35 [00:18<00:13,  1.11it/s, loss=0.0327, v_num=5504]\n",
            "                                                                      \n",
            "\u001b[A    Answer: <s_hotel>keshav hotel</s_hotel><s_menu><s_food name>bread butter toast</s_food name><s_price>20</s_price><sep/><s_food name>corn flakes with milk</s_food name><s_price>30</s_price><sep/><s_food name>thandal</s_food name><s_price>50</s_price></s_menu>\n",
            "Epoch 19:  57% 20/35 [00:18<00:13,  1.11it/s, loss=0.0327, v_num=5504]\n",
            "                                                                      \n",
            "\u001b[A Normed ED: 0.5084745762711864\n",
            "Epoch 19:  57% 20/35 [00:18<00:13,  1.11it/s, loss=0.0327, v_num=5504]\n",
            "                                                                      \n",
            "\u001b[APrediction: <s_menu><s_food name>Palak Chaat</s_food name><s_price>$12.00</s_price><sep/><s_food name>Samosa Chaat</s_food name><s_price>$13.00</s_price><sep/><s_food name>Papdi Chat</s_food name><s_price>$11.00</s_price><sep/><s_food name>Samosa Chaat</s_food name><s_price>$13.00</s_price></s_menu>\n",
            "Epoch 19:  57% 20/35 [00:18<00:14,  1.07it/s, loss=0.0327, v_num=5504]\n",
            "                                                                      \n",
            "\u001b[A    Answer: <s_menu><s_food name>Palak Chaat</s_food name><s_price>$12.00</s_price><sep/><s_food name>Samosa Chaat</s_food name><s_price>$13.00</s_price><sep/><s_food name>Papdi Chat</s_food name><s_price>$11.00</s_price><sep/><s_food name>Sweet Potato Chat</s_food name><s_price>$13.00</s_price></s_menu>\n",
            "Epoch 19:  57% 20/35 [00:18<00:14,  1.07it/s, loss=0.0327, v_num=5504]\n",
            "                                                                      \n",
            "\u001b[A Normed ED: 0.034129692832764506\n",
            "Epoch 19:  57% 20/35 [00:18<00:14,  1.07it/s, loss=0.0327, v_num=5504]\n",
            "                                                                      \n",
            "\u001b[APrediction: <s_menu><s_food name>Mac & Cheese</s_food name><s_price>$6.00</s_price><sep/><s_food name>Chicken Burger with Fries</s_food name><s_price>$12.00</s_price><sep/><s_food name>Veg Burger with Fries</s_food name><s_price>$10.00</s_price><sep/><s_food name>Pepperoni Pizza</s_food name><s_price>$10.00</s_price><sep/><s_food name>Chicken Boneless Tenders</s_food name><s_price>$8.00</s_price><sep/><s_food name>Combo Fried Rice (Egg & Chicken)</s_food name><s_price>$12.00</s_price><sep/><s_food name>Gulab Jamun with Ice Cream</s_food name><s_price>$8.00</s_price><sep/><s_food name>Gajar Halwa (Carrot Pudding)</s_food name><s_price>$8.00</s_price><sep/><s_food name>Mango Cake</s_food name><s_price>$8.00</s_price><sep/><s_food name>Rasmalai (Creamy Dumplings)</s_food name><s_price>$8.00</s_price></s_menu>\n",
            "Epoch 19:  57% 20/35 [00:21<00:16,  1.07s/it, loss=0.0327, v_num=5504]\n",
            "                                                                      \n",
            "\u001b[A    Answer: <s_menu><s_food name>Mac & Cheese</s_food name><s_price>$6.00</s_price><sep/><s_food name>Chicken Burger with Fries</s_food name><s_price>$12.00</s_price><sep/><s_food name>Cauliflower Puree</s_food name><s_price>$8.00</s_price><sep/><s_food name>Pizza Margarita</s_food name><s_price>$10.00</s_price><sep/><s_food name>Veg Burger with Fries</s_food name><s_price>$10.00</s_price><sep/><s_food name>Pepperoni Pizza</s_food name><s_price>$10.00</s_price><sep/><s_food name>Chicken Boneless Tenders</s_food name><s_price>$8.00</s_price><sep/><s_food name>Combo Fried Rice (Egg & Chicken)</s_food name><s_price>$12.00</s_price><sep/><s_food name>Gulab Jamun with Ice Cream</s_food name><s_price>$8.00</s_price><sep/><s_food name>Gajar Halwa (Carrot Pudding)</s_food name><s_price>$8.00</s_price><sep/><s_food name>Mango Cake</s_food name><s_price>$8.00</s_price><sep/><s_food name>Rasmalai (Creamy Dumplings)</s_food name><s_price>$8.00</s_price></s_menu>\n",
            "Epoch 19:  57% 20/35 [00:21<00:16,  1.07s/it, loss=0.0327, v_num=5504]\n",
            "                                                                      \n",
            "\u001b[A Normed ED: 0.15441176470588236\n",
            "Epoch 19:  57% 20/35 [00:21<00:16,  1.07s/it, loss=0.0327, v_num=5504]\n",
            "                                                                      \n",
            "\u001b[APrediction: <s_menu><s_food name>Seafood Dip & Chips</s_food name><s_price>$79.95</s_price><sep/><s_food name>Wingettes</s_food name><s_price>$0.80</s_price><sep/><s_food name>Buffalo Chicken Dip</s_food name><s_price>$59.95</s_price><sep/><s_food name>Chips & Salsa</s_food name><s_price>$39.95</s_price><sep/><s_food name>Dinner Packages</s_food name><s_price>$14.95</s_price><sep/><s_food name>Mama Said \"Shut Yo Mouf & Eat!\"</s_food name><s_price>$18.95</s_price><sep/><s_food name>Served with 2 dinner entrees & 2 premium</s_price><sep/><s_food name>Includes 4 dinner entrees & 4 premium</s_food name><s_price>$18.95</s_price><sep/><s_food name>Sunday Dinner</s_food name><s_price>$16.95</s_price></s_menu>\n",
            "Epoch 19:  57% 20/35 [00:23<00:17,  1.18s/it, loss=0.0327, v_num=5504]\n",
            "                                                                      \n",
            "\u001b[A    Answer: <s_menu><s_food name>Seafood Dip & Chips</s_food name><s_price>$79.95</s_price><sep/><s_food name>Wingettes</s_food name><s_price>$0.80</s_price><sep/><s_food name>Buffalo Chicken Dip</s_food name><s_price>$59.95</s_price><sep/><s_food name>Chips & Salsa</s_food name><s_price>$39.95</s_price><sep/><s_food name>Supper</s_food name><s_price>$14.95</s_price><sep/><s_food name>Mama Said Shut Yo Mouf & Eat!</s_food name><s_price>$18.95</s_price><sep/><s_food name>Sunday Dinner</s_food name><s_price>$16.95</s_price></s_menu>\n",
            "Epoch 19:  57% 20/35 [00:23<00:17,  1.18s/it, loss=0.0327, v_num=5504]\n",
            "                                                                      \n",
            "\u001b[A Normed ED: 0.25608011444921314\n",
            "Epoch 19:  57% 20/35 [00:23<00:17,  1.18s/it, loss=0.0327, v_num=5504]\n",
            "                                                                      \n",
            "\u001b[APrediction: <s_menu><s_food name>Chicken</s_food name><s_price>$18.95</s_price><sep/><s_food name>Carne Asada</s_food name><s_price>$22.95</s_price><sep/><s_food name>Mexican Street Corn</s_food name><s_price>$5.95</s_price><sep/><s_food name>Rice & Beans</s_food name><s_price>$4.95</s_price><sep/><s_food name>Sweet Plantains</s_food name><s_price>$4.95</s_price><sep/><s_food name>Avocado Caesar Salad</s_food name><s_price>$6.95</s_price><sep/><s_food name>Mexican Rice</s_food name><s_price>$4.95</s_price><sep/><s_food name>Escabeche</s_food name><s_price>$3.95</s_price><sep/><s_food name>Chocolate Suffed Churros</s_food name><s_price>$8.95</s_price><sep/><s_food name>Fried Ice Cream</s_food name><s_price>$7.95</s_price><sep/><s_food name>Tres Leches</s_food name><s_price>$7.95</s_price><sep/><s_food name>Capirotada</s_food name><s_price>$7.95</s_price></s_menu>\n",
            "Epoch 19:  57% 20/35 [00:25<00:19,  1.27s/it, loss=0.0327, v_num=5504]\n",
            "                                                                      \n",
            "\u001b[A    Answer: <s_menu><s_food name>Chicken</s_food name><s_price>$18.95</s_price><sep/><s_food name>Carne Asada</s_food name><s_price>$22.95</s_price><sep/><s_food name>Shrimp</s_food name><s_price>$19.95</s_price><sep/><s_food name>Mexican Street Corn</s_food name><s_price>$5.95</s_price><sep/><s_food name>Rice & Beans</s_food name><s_price>$4.95</s_price><sep/><s_food name>Sweet Plantains</s_food name><s_price>$4.95</s_price><sep/><s_food name>Avocado Caesar Salad</s_food name><s_price>$6.95</s_price><sep/><s_food name>Mexican Rice</s_food name><s_price>$4.95</s_price><sep/><s_food name>Escabeche</s_food name><s_price>$3.95</s_price><sep/><s_food name>Black Beans</s_food name><s_price>$4.95</s_price><sep/><s_food name>French Fries</s_food name><s_price>$4.95</s_price><sep/><s_food name>Chocolate Stuffed Churros</s_food name><s_price>$8.95</s_price><sep/><s_food name>Fried Ice Cream</s_food name><s_price>$7.95</s_price><sep/><s_food name>Tres Leches</s_food name><s_price>$7.95</s_price><sep/><s_food name>Capirotada</s_food name><s_price>$7.95</s_price></s_menu>\n",
            "Epoch 19:  57% 20/35 [00:25<00:19,  1.27s/it, loss=0.0327, v_num=5504]\n",
            "                                                                      \n",
            "\u001b[A Normed ED: 0.18984962406015038\n",
            "Epoch 19:  57% 20/35 [00:25<00:19,  1.27s/it, loss=0.0327, v_num=5504]\n",
            "Validation DataLoader 0:   0% 0/5 [00:07<?, ?it/s]\u001b[A\n",
            "Epoch 19: 100% 35/35 [00:25<00:00,  1.37it/s, loss=0.032, v_num=5504] \n",
            "Epoch 29:  57% 20/35 [00:12<00:09,  1.64it/s, loss=0.0172, v_num=5504]\n",
            "Validation: 0it [00:00, ?it/s]\u001b[A\n",
            "Validation:   0% 0/5 [00:00<?, ?it/s]\u001b[A\n",
            "                                                                      \n",
            "\u001b[APrediction: <s_menu><s_food name>BREAKING <s_food name>Roasted papadum</s_food name><s_price>20%</s_price><sep/><s_food name>Roasted papadum</s_food name><s_price>30%</s_price><sep/><s_food name>SWEETEST ENDINGS AND MORE Adrak assam chal</s_price><sep/><s_food name>25%</s_price><sep/><s_food name>Black Black <sep/><s_food name>BeverAGES</s_food name><s_price>25%</s_price><sep/><s_food name>Black Island</s_food name><s_price>30%</s_price><sep/><s_food name>Chips as per mp</s_food name><s_price>Lassi</s_food name><s_price>50t</s_price></s_menu>\n",
            "Epoch 29:  57% 20/35 [00:18<00:13,  1.08it/s, loss=0.0172, v_num=5504]\n",
            "                                                                      \n",
            "\u001b[A    Answer: <s_hotel>keshav hotel</s_hotel><s_menu><s_food name>bread butter toast</s_food name><s_price>20</s_price><sep/><s_food name>corn flakes with milk</s_food name><s_price>30</s_price><sep/><s_food name>thandal</s_food name><s_price>50</s_price></s_menu>\n",
            "Epoch 29:  57% 20/35 [00:18<00:13,  1.08it/s, loss=0.0172, v_num=5504]\n",
            "                                                                      \n",
            "\u001b[A Normed ED: 0.6119402985074627\n",
            "Epoch 29:  57% 20/35 [00:18<00:13,  1.08it/s, loss=0.0172, v_num=5504]\n",
            "                                                                      \n",
            "\u001b[APrediction: <s_menu><s_food name>Palak Chaat</s_food name><s_price>$12.00</s_price><sep/><s_food name>Samosa Chaat</s_food name><s_price>$13.00</s_price><sep/><s_food name>Papdi Chat</s_food name><s_price>$11.00</s_price><sep/><s_food name>Sweet Potato Chat</s_food name><s_price>$13.00</s_price><sep/><s_food name>Roasted sweet potatoes are topped with a</s_food name><s_price>$11.00</s_price></s_menu>\n",
            "Epoch 29:  57% 20/35 [00:19<00:14,  1.02it/s, loss=0.0172, v_num=5504]\n",
            "                                                                      \n",
            "\u001b[A    Answer: <s_menu><s_food name>Palak Chaat</s_food name><s_price>$12.00</s_price><sep/><s_food name>Samosa Chaat</s_food name><s_price>$13.00</s_price><sep/><s_food name>Papdi Chat</s_food name><s_price>$11.00</s_price><sep/><s_food name>Sweet Potato Chat</s_food name><s_price>$13.00</s_price></s_menu>\n",
            "Epoch 29:  57% 20/35 [00:19<00:14,  1.02it/s, loss=0.0172, v_num=5504]\n",
            "                                                                      \n",
            "\u001b[A Normed ED: 0.2506393861892583\n",
            "Epoch 29:  57% 20/35 [00:19<00:14,  1.02it/s, loss=0.0172, v_num=5504]\n",
            "                                                                      \n",
            "\u001b[APrediction: <s_menu><s_food name>Mac & Cheese</s_food name><s_price>$6.00</s_price><sep/><s_food name>Chicken Burger with Fries</s_food name><s_price>$12.00</s_price><sep/><s_food name>Veg Burger with Fries</s_food name><s_price>$10.00</s_price><sep/><s_food name>Peperoni Pizza</s_food name><s_price>$10.00</s_price><sep/><s_food name>Chicken Boneless Tenders</s_food name><s_price>$8.00</s_price><sep/><s_food name>Gajar Halwa (Carrot Pudding)</s_food name><s_price>$8.00</s_price><sep/><s_food name>Mango Cake</s_food name><s_price>$8.00</s_price><sep/><s_food name>Rasmalai (Creamy Dumplings)</s_food name><s_price>$8.00</s_price></s_menu>\n",
            "Epoch 29:  57% 20/35 [00:21<00:16,  1.08s/it, loss=0.0172, v_num=5504]\n",
            "                                                                      \n",
            "\u001b[A    Answer: <s_menu><s_food name>Mac & Cheese</s_food name><s_price>$6.00</s_price><sep/><s_food name>Chicken Burger with Fries</s_food name><s_price>$12.00</s_price><sep/><s_food name>Cauliflower Puree</s_food name><s_price>$8.00</s_price><sep/><s_food name>Pizza Margarita</s_food name><s_price>$10.00</s_price><sep/><s_food name>Veg Burger with Fries</s_food name><s_price>$10.00</s_price><sep/><s_food name>Pepperoni Pizza</s_food name><s_price>$10.00</s_price><sep/><s_food name>Chicken Boneless Tenders</s_food name><s_price>$8.00</s_price><sep/><s_food name>Combo Fried Rice (Egg & Chicken)</s_food name><s_price>$12.00</s_price><sep/><s_food name>Gulab Jamun with Ice Cream</s_food name><s_price>$8.00</s_price><sep/><s_food name>Gajar Halwa (Carrot Pudding)</s_food name><s_price>$8.00</s_price><sep/><s_food name>Mango Cake</s_food name><s_price>$8.00</s_price><sep/><s_food name>Rasmalai (Creamy Dumplings)</s_food name><s_price>$8.00</s_price></s_menu>\n",
            "Epoch 29:  57% 20/35 [00:21<00:16,  1.08s/it, loss=0.0172, v_num=5504]\n",
            "                                                                      \n",
            "\u001b[A Normed ED: 0.33718487394957986\n",
            "Epoch 29:  57% 20/35 [00:21<00:16,  1.08s/it, loss=0.0172, v_num=5504]\n",
            "                                                                      \n",
            "\u001b[APrediction: <s_menu><s_food name>Seafood Dip & Chips</s_food name><s_price>$79.95</s_price><sep/><s_food name>Wingettes</s_food name><s_price>$0.80</s_price><sep/><s_food name>Buffalo Chicken Dip</s_food name><s_price>$59.95</s_price><sep/><s_food name>Chips & Salsa</s_food name><s_price>$39.95</s_price><sep/><s_food name>All Premium Entrees Will Include a $2 Upcharge</s_food name><s_price>$14.95</s_price><sep/><s_food name>Mama Said \"Shut Yo Mouf & Eat!\"</s_food name><s_price>$18.95</s_price><sep/><s_food name>Served with 2 dinner entrees & 2 premium</s_price><sep/><s_food name>Includes 4 dinner entrees & 4 premium sides.</s_food name><s_price>$unday Dinner</s_food name><s_price>$16.95</s_price></s_menu>\n",
            "Epoch 29:  57% 20/35 [00:23<00:17,  1.16s/it, loss=0.0172, v_num=5504]\n",
            "                                                                      \n",
            "\u001b[A    Answer: <s_menu><s_food name>Seafood Dip & Chips</s_food name><s_price>$79.95</s_price><sep/><s_food name>Wingettes</s_food name><s_price>$0.80</s_price><sep/><s_food name>Buffalo Chicken Dip</s_food name><s_price>$59.95</s_price><sep/><s_food name>Chips & Salsa</s_food name><s_price>$39.95</s_price><sep/><s_food name>Supper</s_food name><s_price>$14.95</s_price><sep/><s_food name>Mama Said Shut Yo Mouf & Eat!</s_food name><s_price>$18.95</s_price><sep/><s_food name>Sunday Dinner</s_food name><s_price>$16.95</s_price></s_menu>\n",
            "Epoch 29:  57% 20/35 [00:23<00:17,  1.16s/it, loss=0.0172, v_num=5504]\n",
            "                                                                      \n",
            "\u001b[A Normed ED: 0.25783475783475784\n",
            "Epoch 29:  57% 20/35 [00:23<00:17,  1.16s/it, loss=0.0172, v_num=5504]\n",
            "                                                                      \n",
            "\u001b[APrediction: <s_menu><s_food name>Chicken</s_food name><s_price>$18.95</s_price><sep/><s_food name>Carne Asada</s_food name><s_price>$22.95</s_price><sep/><s_food name>Mexican Street Corn</s_food name><s_price>$5.95</s_price><sep/><s_food name>Rice & Beans</s_food name><s_price>$4.95</s_price><sep/><s_food name>Mexican Rice</s_food name><s_price>$4.95</s_price><sep/><s_food name>Escabeche</s_food name><s_price>$3.95</s_price><sep/><s_food name>Black Beans</s_food name><s_price>$4.95</s_price><sep/><s_food name>French Fries</s_food name><s_price>$4.95</s_price><sep/><s_food name>Chocolate Sturfed Churros</s_food name><s_price>$8.95</s_price><sep/><s_food name>Fried Ice Cream</s_food name><s_price>$7.95</s_price><sep/><s_food name>Tres Leches</s_food name><s_price>$7.95</s_price><sep/><s_food name>Capirotada</s_food name><s_price>$7.95</s_price></s_menu>\n",
            "Epoch 29:  57% 20/35 [00:25<00:18,  1.26s/it, loss=0.0172, v_num=5504]\n",
            "                                                                      \n",
            "\u001b[A    Answer: <s_menu><s_food name>Chicken</s_food name><s_price>$18.95</s_price><sep/><s_food name>Carne Asada</s_food name><s_price>$22.95</s_price><sep/><s_food name>Shrimp</s_food name><s_price>$19.95</s_price><sep/><s_food name>Mexican Street Corn</s_food name><s_price>$5.95</s_price><sep/><s_food name>Rice & Beans</s_food name><s_price>$4.95</s_price><sep/><s_food name>Sweet Plantains</s_food name><s_price>$4.95</s_price><sep/><s_food name>Avocado Caesar Salad</s_food name><s_price>$6.95</s_price><sep/><s_food name>Mexican Rice</s_food name><s_price>$4.95</s_price><sep/><s_food name>Escabeche</s_food name><s_price>$3.95</s_price><sep/><s_food name>Black Beans</s_food name><s_price>$4.95</s_price><sep/><s_food name>French Fries</s_food name><s_price>$4.95</s_price><sep/><s_food name>Chocolate Stuffed Churros</s_food name><s_price>$8.95</s_price><sep/><s_food name>Fried Ice Cream</s_food name><s_price>$7.95</s_price><sep/><s_food name>Tres Leches</s_food name><s_price>$7.95</s_price><sep/><s_food name>Capirotada</s_food name><s_price>$7.95</s_price></s_menu>\n",
            "Epoch 29:  57% 20/35 [00:25<00:18,  1.26s/it, loss=0.0172, v_num=5504]\n",
            "                                                                      \n",
            "\u001b[A Normed ED: 0.20112781954887218\n",
            "Epoch 29:  57% 20/35 [00:25<00:18,  1.26s/it, loss=0.0172, v_num=5504]\n",
            "Validation DataLoader 0:   0% 0/5 [00:07<?, ?it/s]\u001b[A\n",
            "Epoch 29: 100% 35/35 [00:25<00:00,  1.39it/s, loss=0.00701, v_num=5504]\n",
            "Epoch 29: 100% 35/35 [00:25<00:00,  1.39it/s, loss=0.00701, v_num=5504]`Trainer.fit` stopped: `max_epochs=30` reached.\n",
            "Epoch 29: 100% 35/35 [00:25<00:00,  1.39it/s, loss=0.00701, v_num=5504]\n"
          ]
        }
      ]
    },
    {
      "cell_type": "code",
      "source": [
        "from donut import DonutModel\n",
        "from PIL import Image\n",
        "import torch\n",
        "model = DonutModel.from_pretrained(\"/content/donut/result/train_hotel/20230427_235504\")\n",
        "if torch.cuda.is_available():\n",
        "    model.half()\n",
        "    device = torch.device(\"cuda\")\n",
        "    model.to(device)\n",
        "else:\n",
        "    model.encoder.to(torch.bfloat16)\n",
        "model.eval()\n",
        "image = Image.open(\"/content/hotel_donut/test/012.png\").convert(\"RGB\")\n",
        "output = model.inference(image=image, prompt=\"<s_sroie-donut>\")\n",
        "output"
      ],
      "metadata": {
        "colab": {
          "base_uri": "https://localhost:8080/"
        },
        "id": "kaG58jAyO5R7",
        "outputId": "6b7a2a60-0254-42de-c94e-9c66f61fd810"
      },
      "execution_count": null,
      "outputs": [
        {
          "output_type": "execute_result",
          "data": {
            "text/plain": [
              "{'predictions': [[{'price': '$18.00'},\n",
              "   {'food name': 'Gongura Chicken Curry', 'price': '$18.00'},\n",
              "   {'food name': 'Chicken Tikka Masala', 'price': '$18.00'},\n",
              "   {'food name': 'Lamb Saag', 'price': '$20.00'},\n",
              "   {'food name': 'Chicken Korma', 'price': '$18.00'},\n",
              "   {'food name': 'Lamb Rogan Josh', 'price': '$20.00'},\n",
              "   {'food name': 'Chicken Chettinad', 'price': '$18.00'},\n",
              "   {'food name': 'Lamb Korma', 'price': '$20.00'}]]}"
            ]
          },
          "metadata": {},
          "execution_count": 41
        }
      ]
    },
    {
      "cell_type": "code",
      "source": [
        "!cd ./donut && python test.py --dataset_name_or_path ../hotel_donut --pretrained_model_name_or_path /content/donut/result/train_hotel/20230427_235504 --save_path ./result/train_hotel/output.json"
      ],
      "metadata": {
        "colab": {
          "base_uri": "https://localhost:8080/"
        },
        "id": "afPiz6r7EDUt",
        "outputId": "3028f045-10b9-424e-8284-9b556e4682ea"
      },
      "execution_count": null,
      "outputs": [
        {
          "output_type": "stream",
          "name": "stdout",
          "text": [
            "2023-04-28 00:07:26.136916: W tensorflow/compiler/tf2tensorrt/utils/py_utils.cc:38] TF-TRT Warning: Could not find TensorRT\n",
            "/usr/local/lib/python3.10/dist-packages/torch/functional.py:504: UserWarning: torch.meshgrid: in an upcoming release, it will be required to pass the indexing argument. (Triggered internally at ../aten/src/ATen/native/TensorShape.cpp:3483.)\n",
            "  return _VF.meshgrid(tensors, **kwargs)  # type: ignore[attr-defined]\n",
            "Resolving data files: 100% 31/31 [00:00<00:00, 77811.74it/s]\n",
            "Found cached dataset imagefolder (/root/.cache/huggingface/datasets/imagefolder/hotel_donut-3e64f39d891ff108/0.0.0/37fbb85cc714a338bea574ac6c7d0b5be5aff46c1862c1989b20e0771199e93f)\n",
            "100% 5/5 [00:04<00:00,  1.20it/s]\n",
            "Total number of samples: 5, Tree Edit Distance (TED) based accuracy score: 0.8964204529086561, F1 accuracy score: 0.8863636363636364\n"
          ]
        }
      ]
    },
    {
      "cell_type": "code",
      "source": [],
      "metadata": {
        "id": "ELXKazVwHwLE"
      },
      "execution_count": null,
      "outputs": []
    }
  ]
}